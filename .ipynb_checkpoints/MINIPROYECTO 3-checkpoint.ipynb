{
 "cells": [
  {
   "cell_type": "markdown",
   "id": "81286cf5",
   "metadata": {},
   "source": [
    "# <FONT COLOR = 'green'> MINI PROYECTO 3 <FONT>"
   ]
  },
  {
   "cell_type": "markdown",
   "id": "ebaa0b5b",
   "metadata": {},
   "source": [
    "##  <font color = 'brown'> Part 1 : Implementación y visualización de k-means en 2D <font>"
   ]
  },
  {
   "cell_type": "code",
   "execution_count": 20,
   "id": "49e44c02",
   "metadata": {},
   "outputs": [],
   "source": [
    "import pandas as pd\n",
    "import numpy as np\n",
    "import matplotlib.pyplot as plt\n",
    "from sklearn.cluster import KMeans\n",
    "import seaborn as sns"
   ]
  },
  {
   "cell_type": "code",
   "execution_count": null,
   "id": "bd4bded9",
   "metadata": {},
   "outputs": [],
   "source": [
    "dataset = pd.read_csv('kmeans1.csv')"
   ]
  },
  {
   "cell_type": "code",
   "execution_count": null,
   "id": "d17fda77",
   "metadata": {},
   "outputs": [],
   "source": [
    "#visualizacion de datos \n",
    "dataset"
   ]
  },
  {
   "cell_type": "code",
   "execution_count": null,
   "id": "9bf9b849",
   "metadata": {},
   "outputs": [],
   "source": [
    "# Analisis del dataset\n",
    "dataset.describe()\n",
    "dataset.dtypes\n"
   ]
  },
  {
   "cell_type": "code",
   "execution_count": null,
   "id": "9220b31f",
   "metadata": {},
   "outputs": [],
   "source": [
    "# analisis descrptivo del dataset\n",
    "for i in dataset:\n",
    "    print('-'*35)\n",
    "    print(f'Analisis descriptivo de {i}' )\n",
    "    print(f'El valor minimo de {i} es : ',round(dataset[i].min(),4))\n",
    "    print(f'El valor maximo de {i} es : ',round(dataset[i].max(),4))\n",
    "    print(f'El valor de la media de {i} es : ',round(dataset[i].mean(),4))\n",
    "    print(f'El valor de la desviacion estandar de {i} es : ',round(dataset[i].std(),4))\n",
    "    print(f'El valor de la media de {i} es : ',round(dataset[i].count(),4))\n",
    "    "
   ]
  },
  {
   "cell_type": "code",
   "execution_count": null,
   "id": "ea9ca063",
   "metadata": {},
   "outputs": [],
   "source": [
    "#GRAFICO DE DISPERCION \n",
    "grafico = sns.scatterplot(data=dataset, x=\"A\", y=\"B\")\n",
    "grafico.set_xlabel(\"X-Axis\", fontsize = 15)\n",
    "grafico.set_ylabel(\"Y-Axis\", fontsize = 15)\n",
    "grafico.set_title('Variables A y B', fontsize = 20)\n",
    "print(' ')\n",
    "print('Se pueden apreciar 4 cluster')"
   ]
  },
  {
   "cell_type": "code",
   "execution_count": null,
   "id": "00d4b5ec",
   "metadata": {},
   "outputs": [],
   "source": [
    "#Implementacion del metodo KMEAN\n",
    "k_means = KMeans(n_clusters = 2)\n",
    "k_means.fit(dataset)"
   ]
  },
  {
   "cell_type": "code",
   "execution_count": null,
   "id": "0a43550a",
   "metadata": {},
   "outputs": [],
   "source": [
    "#Agregar valores al diccionario\n",
    "\n",
    "diccionario = {}\n",
    "for i in range(1,10):\n",
    "    kmeans = KMeans(n_clusters= i, max_iter = 1000).fit(dataset)\n",
    "    diccionario[i] = kmeans.inertia_\n",
    "plt.figure()\n",
    "plt.plot(list(diccionario.keys()),list(diccionario.values()))\n",
    "plt.xlabel(' Número de cluster ')\n",
    "plt.ylabel(' Diccionario ')\n",
    "plt.title('')\n",
    "plt.show()"
   ]
  },
  {
   "cell_type": "code",
   "execution_count": null,
   "id": "bc9f0171",
   "metadata": {},
   "outputs": [],
   "source": [
    "#IMPLEMENTACION DE ALGORITMO K-MEANS\n",
    "k_means = KMeans(n_clusters = 4)\n",
    "k_means.fit(dataset)"
   ]
  },
  {
   "cell_type": "code",
   "execution_count": null,
   "id": "c59fee32",
   "metadata": {},
   "outputs": [],
   "source": [
    "#CENTROIDES\n",
    "k_means.cluster_centers_"
   ]
  },
  {
   "cell_type": "code",
   "execution_count": null,
   "id": "9ab4bf77",
   "metadata": {},
   "outputs": [],
   "source": [
    "#sumatoria de distancia al centroide\n",
    "k_means.inertia_"
   ]
  },
  {
   "cell_type": "code",
   "execution_count": null,
   "id": "9861f954",
   "metadata": {},
   "outputs": [],
   "source": [
    "#cluster asignados\n",
    "k_means.labels_"
   ]
  },
  {
   "cell_type": "code",
   "execution_count": null,
   "id": "f6439beb",
   "metadata": {},
   "outputs": [],
   "source": [
    "#diccionario de centroides\n",
    "diccionario_centroides = []\n",
    "for i in range(1,11):\n",
    "    k_means = KMeans(n_clusters = i)\n",
    "    k_means.fit(dataset)\n",
    "    diccionario_centroides.append({f'centroide numero {i}':round(k_means.inertia_,5)})"
   ]
  },
  {
   "cell_type": "code",
   "execution_count": null,
   "id": "5ca230f5",
   "metadata": {},
   "outputs": [],
   "source": [
    "dataset['clase'] = k_means.labels_"
   ]
  },
  {
   "cell_type": "code",
   "execution_count": null,
   "id": "118d0647",
   "metadata": {},
   "outputs": [],
   "source": [
    "dataset.head()"
   ]
  },
  {
   "cell_type": "code",
   "execution_count": null,
   "id": "fc62f386",
   "metadata": {
    "scrolled": true
   },
   "outputs": [],
   "source": [
    "#grafico intra clases \n",
    "colores = ['r.','b.','y.','g.']\n",
    "for i in range(0,4):\n",
    "    plt.plot(dataset['A'][dataset['clase']==i],dataset['B'][dataset['clase']==i],colores[i])\n",
    "plt.xlabel('X')\n",
    "plt.ylabel('Y')\n",
    "plt.title('Gráfico de Cluster', fontsize = 23)\n",
    "plt.grid()\n",
    "plt.show()"
   ]
  },
  {
   "cell_type": "markdown",
   "id": "b948a873",
   "metadata": {},
   "source": [
    "# <font  color = 'green' > Part 2 : Análisis de cluster <font>"
   ]
  },
  {
   "cell_type": "code",
   "execution_count": 2,
   "id": "c88b2df6",
   "metadata": {},
   "outputs": [],
   "source": [
    "dataset2 = pd.read_csv('kmeans2.csv')\n",
    "# probar con engine = python y index = 0"
   ]
  },
  {
   "cell_type": "code",
   "execution_count": 3,
   "id": "f83d7747",
   "metadata": {},
   "outputs": [
    {
     "data": {
      "text/html": [
       "<div>\n",
       "<style scoped>\n",
       "    .dataframe tbody tr th:only-of-type {\n",
       "        vertical-align: middle;\n",
       "    }\n",
       "\n",
       "    .dataframe tbody tr th {\n",
       "        vertical-align: top;\n",
       "    }\n",
       "\n",
       "    .dataframe thead th {\n",
       "        text-align: right;\n",
       "    }\n",
       "</style>\n",
       "<table border=\"1\" class=\"dataframe\">\n",
       "  <thead>\n",
       "    <tr style=\"text-align: right;\">\n",
       "      <th></th>\n",
       "      <th>Unnamed: 0</th>\n",
       "      <th>Amplitude</th>\n",
       "      <th>AndersonDarling</th>\n",
       "      <th>Autocor_length</th>\n",
       "      <th>Beyond1Std</th>\n",
       "      <th>Gskew</th>\n",
       "      <th>LinearTrend</th>\n",
       "      <th>MaxSlope</th>\n",
       "      <th>Mean</th>\n",
       "      <th>Meanvariance</th>\n",
       "      <th>MedianAbsDev</th>\n",
       "      <th>MedianBRP</th>\n",
       "      <th>PercentAmplitude</th>\n",
       "      <th>PeriodLS</th>\n",
       "    </tr>\n",
       "  </thead>\n",
       "  <tbody>\n",
       "    <tr>\n",
       "      <th>0</th>\n",
       "      <td>0</td>\n",
       "      <td>0.02700</td>\n",
       "      <td>0.000000</td>\n",
       "      <td>3</td>\n",
       "      <td>0.270000</td>\n",
       "      <td>0.0190</td>\n",
       "      <td>-0.000007</td>\n",
       "      <td>0.130305</td>\n",
       "      <td>14.270917</td>\n",
       "      <td>0.000995</td>\n",
       "      <td>0.0090</td>\n",
       "      <td>0.533333</td>\n",
       "      <td>0.004906</td>\n",
       "      <td>17.880565</td>\n",
       "    </tr>\n",
       "    <tr>\n",
       "      <th>1</th>\n",
       "      <td>1</td>\n",
       "      <td>0.21400</td>\n",
       "      <td>0.000000</td>\n",
       "      <td>18</td>\n",
       "      <td>0.346667</td>\n",
       "      <td>0.1260</td>\n",
       "      <td>0.000001</td>\n",
       "      <td>0.010560</td>\n",
       "      <td>13.696013</td>\n",
       "      <td>0.008650</td>\n",
       "      <td>0.0975</td>\n",
       "      <td>0.240000</td>\n",
       "      <td>0.026910</td>\n",
       "      <td>0.997859</td>\n",
       "    </tr>\n",
       "    <tr>\n",
       "      <th>2</th>\n",
       "      <td>2</td>\n",
       "      <td>0.27050</td>\n",
       "      <td>0.000000</td>\n",
       "      <td>1</td>\n",
       "      <td>0.223333</td>\n",
       "      <td>0.2320</td>\n",
       "      <td>-0.000010</td>\n",
       "      <td>0.319591</td>\n",
       "      <td>19.368090</td>\n",
       "      <td>0.006736</td>\n",
       "      <td>0.0710</td>\n",
       "      <td>0.530000</td>\n",
       "      <td>0.027474</td>\n",
       "      <td>2.534404</td>\n",
       "    </tr>\n",
       "    <tr>\n",
       "      <th>3</th>\n",
       "      <td>3</td>\n",
       "      <td>0.34250</td>\n",
       "      <td>0.000000</td>\n",
       "      <td>13</td>\n",
       "      <td>0.396667</td>\n",
       "      <td>-0.0170</td>\n",
       "      <td>-0.000090</td>\n",
       "      <td>0.664452</td>\n",
       "      <td>14.216857</td>\n",
       "      <td>0.013279</td>\n",
       "      <td>0.1515</td>\n",
       "      <td>0.250000</td>\n",
       "      <td>0.029652</td>\n",
       "      <td>117.161715</td>\n",
       "    </tr>\n",
       "    <tr>\n",
       "      <th>4</th>\n",
       "      <td>4</td>\n",
       "      <td>0.01075</td>\n",
       "      <td>0.097155</td>\n",
       "      <td>1</td>\n",
       "      <td>0.313830</td>\n",
       "      <td>-0.0020</td>\n",
       "      <td>-0.000002</td>\n",
       "      <td>0.105675</td>\n",
       "      <td>13.609633</td>\n",
       "      <td>0.000410</td>\n",
       "      <td>0.0040</td>\n",
       "      <td>0.494681</td>\n",
       "      <td>0.001470</td>\n",
       "      <td>7.655264</td>\n",
       "    </tr>\n",
       "    <tr>\n",
       "      <th>5</th>\n",
       "      <td>5</td>\n",
       "      <td>0.09250</td>\n",
       "      <td>0.000000</td>\n",
       "      <td>1</td>\n",
       "      <td>0.286667</td>\n",
       "      <td>0.0525</td>\n",
       "      <td>0.000004</td>\n",
       "      <td>20.114943</td>\n",
       "      <td>17.674943</td>\n",
       "      <td>0.002604</td>\n",
       "      <td>0.0285</td>\n",
       "      <td>0.423333</td>\n",
       "      <td>0.008461</td>\n",
       "      <td>3.101105</td>\n",
       "    </tr>\n",
       "    <tr>\n",
       "      <th>6</th>\n",
       "      <td>6</td>\n",
       "      <td>0.07325</td>\n",
       "      <td>0.000035</td>\n",
       "      <td>13</td>\n",
       "      <td>0.270270</td>\n",
       "      <td>0.0530</td>\n",
       "      <td>-0.000171</td>\n",
       "      <td>0.935620</td>\n",
       "      <td>13.223068</td>\n",
       "      <td>0.002724</td>\n",
       "      <td>0.0220</td>\n",
       "      <td>0.405405</td>\n",
       "      <td>0.008623</td>\n",
       "      <td>147.996247</td>\n",
       "    </tr>\n",
       "    <tr>\n",
       "      <th>7</th>\n",
       "      <td>7</td>\n",
       "      <td>0.22200</td>\n",
       "      <td>0.039383</td>\n",
       "      <td>1</td>\n",
       "      <td>0.297872</td>\n",
       "      <td>-0.0335</td>\n",
       "      <td>-0.000061</td>\n",
       "      <td>4.828199</td>\n",
       "      <td>15.904539</td>\n",
       "      <td>0.007964</td>\n",
       "      <td>0.0900</td>\n",
       "      <td>0.276596</td>\n",
       "      <td>0.016653</td>\n",
       "      <td>0.558561</td>\n",
       "    </tr>\n",
       "    <tr>\n",
       "      <th>8</th>\n",
       "      <td>8</td>\n",
       "      <td>0.06300</td>\n",
       "      <td>0.052098</td>\n",
       "      <td>3</td>\n",
       "      <td>0.310680</td>\n",
       "      <td>0.0175</td>\n",
       "      <td>-0.000054</td>\n",
       "      <td>0.088183</td>\n",
       "      <td>12.543311</td>\n",
       "      <td>0.002687</td>\n",
       "      <td>0.0220</td>\n",
       "      <td>0.281553</td>\n",
       "      <td>0.005982</td>\n",
       "      <td>47.769788</td>\n",
       "    </tr>\n",
       "  </tbody>\n",
       "</table>\n",
       "</div>"
      ],
      "text/plain": [
       "   Unnamed: 0  Amplitude  AndersonDarling  Autocor_length  Beyond1Std   Gskew  \\\n",
       "0           0    0.02700         0.000000               3    0.270000  0.0190   \n",
       "1           1    0.21400         0.000000              18    0.346667  0.1260   \n",
       "2           2    0.27050         0.000000               1    0.223333  0.2320   \n",
       "3           3    0.34250         0.000000              13    0.396667 -0.0170   \n",
       "4           4    0.01075         0.097155               1    0.313830 -0.0020   \n",
       "5           5    0.09250         0.000000               1    0.286667  0.0525   \n",
       "6           6    0.07325         0.000035              13    0.270270  0.0530   \n",
       "7           7    0.22200         0.039383               1    0.297872 -0.0335   \n",
       "8           8    0.06300         0.052098               3    0.310680  0.0175   \n",
       "\n",
       "   LinearTrend   MaxSlope       Mean  Meanvariance  MedianAbsDev  MedianBRP  \\\n",
       "0    -0.000007   0.130305  14.270917      0.000995        0.0090   0.533333   \n",
       "1     0.000001   0.010560  13.696013      0.008650        0.0975   0.240000   \n",
       "2    -0.000010   0.319591  19.368090      0.006736        0.0710   0.530000   \n",
       "3    -0.000090   0.664452  14.216857      0.013279        0.1515   0.250000   \n",
       "4    -0.000002   0.105675  13.609633      0.000410        0.0040   0.494681   \n",
       "5     0.000004  20.114943  17.674943      0.002604        0.0285   0.423333   \n",
       "6    -0.000171   0.935620  13.223068      0.002724        0.0220   0.405405   \n",
       "7    -0.000061   4.828199  15.904539      0.007964        0.0900   0.276596   \n",
       "8    -0.000054   0.088183  12.543311      0.002687        0.0220   0.281553   \n",
       "\n",
       "   PercentAmplitude    PeriodLS  \n",
       "0          0.004906   17.880565  \n",
       "1          0.026910    0.997859  \n",
       "2          0.027474    2.534404  \n",
       "3          0.029652  117.161715  \n",
       "4          0.001470    7.655264  \n",
       "5          0.008461    3.101105  \n",
       "6          0.008623  147.996247  \n",
       "7          0.016653    0.558561  \n",
       "8          0.005982   47.769788  "
      ]
     },
     "execution_count": 3,
     "metadata": {},
     "output_type": "execute_result"
    }
   ],
   "source": [
    "#visualizar variables \n",
    "dataset2.head(9)"
   ]
  },
  {
   "cell_type": "code",
   "execution_count": 5,
   "id": "b2f86929",
   "metadata": {},
   "outputs": [
    {
     "name": "stdout",
     "output_type": "stream",
     "text": [
      "<class 'pandas.core.frame.DataFrame'>\n",
      "RangeIndex: 5000 entries, 0 to 4999\n",
      "Data columns (total 14 columns):\n",
      " #   Column            Non-Null Count  Dtype  \n",
      "---  ------            --------------  -----  \n",
      " 0   Unnamed: 0        5000 non-null   int64  \n",
      " 1   Amplitude         5000 non-null   float64\n",
      " 2   AndersonDarling   5000 non-null   float64\n",
      " 3   Autocor_length    5000 non-null   int64  \n",
      " 4   Beyond1Std        5000 non-null   float64\n",
      " 5   Gskew             5000 non-null   float64\n",
      " 6   LinearTrend       5000 non-null   float64\n",
      " 7   MaxSlope          5000 non-null   float64\n",
      " 8   Mean              5000 non-null   float64\n",
      " 9   Meanvariance      5000 non-null   float64\n",
      " 10  MedianAbsDev      5000 non-null   float64\n",
      " 11  MedianBRP         5000 non-null   float64\n",
      " 12  PercentAmplitude  5000 non-null   float64\n",
      " 13  PeriodLS          5000 non-null   float64\n",
      "dtypes: float64(12), int64(2)\n",
      "memory usage: 547.0 KB\n"
     ]
    },
    {
     "data": {
      "text/plain": [
       "Unnamed: 0            int64\n",
       "Amplitude           float64\n",
       "AndersonDarling     float64\n",
       "Autocor_length        int64\n",
       "Beyond1Std          float64\n",
       "Gskew               float64\n",
       "LinearTrend         float64\n",
       "MaxSlope            float64\n",
       "Mean                float64\n",
       "Meanvariance        float64\n",
       "MedianAbsDev        float64\n",
       "MedianBRP           float64\n",
       "PercentAmplitude    float64\n",
       "PeriodLS            float64\n",
       "dtype: object"
      ]
     },
     "execution_count": 5,
     "metadata": {},
     "output_type": "execute_result"
    }
   ],
   "source": [
    "# Analisis del dataset\n",
    "dataset2.info()\n",
    "dataset2.describe()\n",
    "dataset2.dtypes"
   ]
  },
  {
   "cell_type": "code",
   "execution_count": 6,
   "id": "f6cac0e9",
   "metadata": {},
   "outputs": [
    {
     "name": "stdout",
     "output_type": "stream",
     "text": [
      "-----------------------------------\n",
      "Analisis descriptivo de Unnamed: 0\n",
      "El valor minimo de Unnamed: 0 es :  0\n",
      "El valor maximo de Unnamed: 0 es :  4999\n",
      "El valor de la media de Unnamed: 0 es :  2499.5\n",
      "El valor de la desviacion estandar de Unnamed: 0 es :  1443.52\n",
      "El valor de la media de Unnamed: 0 es :  5000\n",
      "-----------------------------------\n",
      "Analisis descriptivo de Amplitude\n",
      "El valor minimo de Amplitude es :  0.007\n",
      "El valor maximo de Amplitude es :  1.7005\n",
      "El valor de la media de Amplitude es :  0.1069\n",
      "El valor de la desviacion estandar de Amplitude es :  0.1479\n",
      "El valor de la media de Amplitude es :  5000\n",
      "-----------------------------------\n",
      "Analisis descriptivo de AndersonDarling\n",
      "El valor minimo de AndersonDarling es :  0.0\n",
      "El valor maximo de AndersonDarling es :  0.9804\n",
      "El valor de la media de AndersonDarling es :  0.1305\n",
      "El valor de la desviacion estandar de AndersonDarling es :  0.2028\n",
      "El valor de la media de AndersonDarling es :  5000\n",
      "-----------------------------------\n",
      "Analisis descriptivo de Autocor_length\n",
      "El valor minimo de Autocor_length es :  1\n",
      "El valor maximo de Autocor_length es :  70\n",
      "El valor de la media de Autocor_length es :  4.5454\n",
      "El valor de la desviacion estandar de Autocor_length es :  6.1212\n",
      "El valor de la media de Autocor_length es :  5000\n",
      "-----------------------------------\n",
      "Analisis descriptivo de Beyond1Std\n",
      "El valor minimo de Beyond1Std es :  0.0705\n",
      "El valor maximo de Beyond1Std es :  0.5367\n",
      "El valor de la media de Beyond1Std es :  0.3175\n",
      "El valor de la desviacion estandar de Beyond1Std es :  0.0604\n",
      "El valor de la media de Beyond1Std es :  5000\n",
      "-----------------------------------\n",
      "Analisis descriptivo de Gskew\n",
      "El valor minimo de Gskew es :  -1.763\n",
      "El valor maximo de Gskew es :  1.479\n",
      "El valor de la media de Gskew es :  0.0163\n",
      "El valor de la desviacion estandar de Gskew es :  0.1263\n",
      "El valor de la media de Gskew es :  5000\n",
      "-----------------------------------\n",
      "Analisis descriptivo de LinearTrend\n",
      "El valor minimo de LinearTrend es :  -0.0164\n",
      "El valor maximo de LinearTrend es :  0.0337\n",
      "El valor de la media de LinearTrend es :  0.0\n",
      "El valor de la desviacion estandar de LinearTrend es :  0.0007\n",
      "El valor de la media de LinearTrend es :  5000\n",
      "-----------------------------------\n",
      "Analisis descriptivo de MaxSlope\n",
      "El valor minimo de MaxSlope es :  0.0064\n",
      "El valor maximo de MaxSlope es :  335.1515\n",
      "El valor de la media de MaxSlope es :  2.1755\n",
      "El valor de la desviacion estandar de MaxSlope es :  9.4237\n",
      "El valor de la media de MaxSlope es :  5000\n",
      "-----------------------------------\n",
      "Analisis descriptivo de Mean\n",
      "El valor minimo de Mean es :  11.6662\n",
      "El valor maximo de Mean es :  21.0995\n",
      "El valor de la media de Mean es :  14.9884\n",
      "El valor de la desviacion estandar de Mean es :  1.89\n",
      "El valor de la media de Mean es :  5000\n",
      "-----------------------------------\n",
      "Analisis descriptivo de Meanvariance\n",
      "El valor minimo de Meanvariance es :  0.0003\n",
      "El valor maximo de Meanvariance es :  0.076\n",
      "El valor de la media de Meanvariance es :  0.0037\n",
      "El valor de la desviacion estandar de Meanvariance es :  0.0055\n",
      "El valor de la media de Meanvariance es :  5000\n",
      "-----------------------------------\n",
      "Analisis descriptivo de MedianAbsDev\n",
      "El valor minimo de MedianAbsDev es :  0.002\n",
      "El valor maximo de MedianAbsDev es :  1.025\n",
      "El valor de la media de MedianAbsDev es :  0.0392\n",
      "El valor de la desviacion estandar de MedianAbsDev es :  0.0626\n",
      "El valor de la media de MedianAbsDev es :  5000\n",
      "-----------------------------------\n",
      "Analisis descriptivo de MedianBRP\n",
      "El valor minimo de MedianBRP es :  0.0694\n",
      "El valor maximo de MedianBRP es :  0.922\n",
      "El valor de la media de MedianBRP es :  0.4147\n",
      "El valor de la desviacion estandar de MedianBRP es :  0.1227\n",
      "El valor de la media de MedianBRP es :  5000\n",
      "-----------------------------------\n",
      "Analisis descriptivo de PercentAmplitude\n",
      "El valor minimo de PercentAmplitude es :  0.0009\n",
      "El valor maximo de PercentAmplitude es :  0.1715\n",
      "El valor de la media de PercentAmplitude es :  0.0106\n",
      "El valor de la desviacion estandar de PercentAmplitude es :  0.0145\n",
      "El valor de la media de PercentAmplitude es :  5000\n",
      "-----------------------------------\n",
      "Analisis descriptivo de PeriodLS\n",
      "El valor minimo de PeriodLS es :  0.0056\n",
      "El valor maximo de PeriodLS es :  12870.8756\n",
      "El valor de la media de PeriodLS es :  302.8319\n",
      "El valor de la desviacion estandar de PeriodLS es :  944.6657\n",
      "El valor de la media de PeriodLS es :  5000\n"
     ]
    }
   ],
   "source": [
    "# Analisis descriptivo \n",
    "lista_min = list()\n",
    "for i in dataset2:\n",
    "    print('-'*35)\n",
    "    print(f'Analisis descriptivo de {i}' )\n",
    "    print(f'El valor minimo de {i} es : ',round(dataset2[i].min(),4))\n",
    "    lista_min.append(round(dataset2[i].min(),4))\n",
    "    print(f'El valor maximo de {i} es : ',round(dataset2[i].max(),4))\n",
    "    print(f'El valor de la media de {i} es : ',round(dataset2[i].mean(),4))\n",
    "    print(f'El valor de la desviacion estandar de {i} es : ',round(dataset2[i].std(),4))\n",
    "    print(f'El valor de la media de {i} es : ',round(dataset2[i].count(),4))"
   ]
  },
  {
   "cell_type": "code",
   "execution_count": 7,
   "id": "4c1d1c90",
   "metadata": {},
   "outputs": [
    {
     "data": {
      "image/png": "[encoded data removed]",
      "text/plain": [
       "<Figure size 360x360 with 1 Axes>"
      ]
     },
     "metadata": {
      "needs_background": "light"
     },
     "output_type": "display_data"
    }
   ],
   "source": [
    "# histograma de los valores minimos \n",
    "lista_min\n",
    "intervalo = range(-2, 13)\n",
    "sns.displot(lista_min, color='#F2AB6D', bins=intervalo , kde=True) #)\n",
    "plt.ylabel('Valores ')\n",
    "plt.xlabel('Edades')\n",
    "plt.title('Histograma de edades - Seaborn - codigopiton.com')\n",
    "plt.show()"
   ]
  },
  {
   "cell_type": "code",
   "execution_count": null,
   "id": "439ec020",
   "metadata": {},
   "outputs": [],
   "source": [
    "#graficos de dispercion\n",
    "print(sns.scatterplot(data=dataset2, x=\"Unnamed: 0\", y='Amplitude'))"
   ]
  },
  {
   "cell_type": "code",
   "execution_count": null,
   "id": "a819a9b7",
   "metadata": {},
   "outputs": [],
   "source": [
    "# LISTA CON NOMBRES DE LAS COLUMNAS \n",
    "col = list(dataset2.columns)"
   ]
  },
  {
   "cell_type": "code",
   "execution_count": null,
   "id": "51adb7c7",
   "metadata": {},
   "outputs": [],
   "source": [
    "#VISUALIZACION DE UNA VARIABLE \n",
    "ax = sns.distplot(dataset2['Amplitude'])"
   ]
  },
  {
   "cell_type": "code",
   "execution_count": null,
   "id": "6ffdd98c",
   "metadata": {},
   "outputs": [],
   "source": [
    "#VISUALIZACION DE TODAS LAS VARIABLES DEL DATAFRAME EN GRAFICOS \n",
    "sns.pairplot(dataset2, vars = col.iloc[10:2], hue = 'Unnamed: 0', palette = 'Paired')"
   ]
  },
  {
   "cell_type": "markdown",
   "id": "97e63f85",
   "metadata": {},
   "source": [
    "## <font  color = 'blue' > implementacion de algoritmo k-means <font>"
   ]
  },
  {
   "cell_type": "code",
   "execution_count": 8,
   "id": "87a343b7",
   "metadata": {},
   "outputs": [],
   "source": [
    "#eliminamos la prinmera columna, ya que no es parte de las caracteristicas que queremos analizar\n",
    "df = dataset2.drop(['Unnamed: 0'], axis = 1) "
   ]
  },
  {
   "cell_type": "code",
   "execution_count": null,
   "id": "2a01f333",
   "metadata": {},
   "outputs": [],
   "source": [
    "# estadisticas descriptivas \n",
    "df.describe()"
   ]
  },
  {
   "cell_type": "code",
   "execution_count": null,
   "id": "16b5cf63",
   "metadata": {},
   "outputs": [],
   "source": [
    "# NORMALIZAR VALORES\n",
    "df_nor = (df-df.min())/(df.max()- df.min())"
   ]
  },
  {
   "cell_type": "code",
   "execution_count": null,
   "id": "c7df95c8",
   "metadata": {},
   "outputs": [],
   "source": [
    "#describir los datos normalizados \n",
    "df_nor.describe()"
   ]
  },
  {
   "cell_type": "code",
   "execution_count": null,
   "id": "7f36d20c",
   "metadata": {},
   "outputs": [],
   "source": [
    "# implementacion metodo k-mean\n",
    "ws =  list()\n",
    "for i in range(1,10):\n",
    "    kmeans = KMeans(n_clusters = i, max_iter = 300)\n",
    "    kmeans.fit(df_nor)\n",
    "    ws.append(kmeans.inertia_)"
   ]
  },
  {
   "cell_type": "code",
   "execution_count": null,
   "id": "fab53fa9",
   "metadata": {},
   "outputs": [],
   "source": [
    "#Graficamos los resultados GRAFICO DEL CODO\n",
    "plt.plot(range(1,10),ws)\n",
    "plt.title(' Gráfico de codo')\n",
    "plt.xlabel('Numero de clusters')\n",
    "plt.ylabel('WS')\n",
    "plt.show()\n",
    "\n",
    "print('SE PUEDE APRECIAR QUE EN EL CLUSTER NUMERO 4 LA CURVA DEJA DE CAER ABRUPTAMENTE ')"
   ]
  },
  {
   "cell_type": "markdown",
   "id": "b3952980",
   "metadata": {},
   "source": [
    "## APLICANDO EL METODO K-MEANS A LA BASE DE DATOS "
   ]
  },
  {
   "cell_type": "code",
   "execution_count": null,
   "id": "fec99181",
   "metadata": {},
   "outputs": [],
   "source": [
    "clus = KMeans(n_clusters = 4, max_iter = 300)\n",
    "clus.fit(df_nor)"
   ]
  },
  {
   "cell_type": "code",
   "execution_count": null,
   "id": "2db4cc17",
   "metadata": {},
   "outputs": [],
   "source": [
    "# GREGAMOS \n",
    "dataset2['Kmean_cluster'] = clus.labels_"
   ]
  },
  {
   "cell_type": "code",
   "execution_count": null,
   "id": "e6ff84c3",
   "metadata": {},
   "outputs": [],
   "source": [
    "dataset2.head()"
   ]
  },
  {
   "cell_type": "markdown",
   "id": "42259e37",
   "metadata": {},
   "source": [
    "## VISUALIZACON DE LOS CLUSTERS QUE SE FORMARON"
   ]
  },
  {
   "cell_type": "code",
   "execution_count": null,
   "id": "72a88c73",
   "metadata": {},
   "outputs": [],
   "source": [
    "from sklearn.decomposition import PCA\n",
    "\n",
    "pca = PCA(n_components = 2)\n",
    "pca_data = pca.fit_transform(df_nor)\n",
    "pca_data_df = pd.DataFrame(data =pca_data, columns= ['componente_1', 'componente_2'])\n",
    "pca_nom_data = pd.concat([pca_data_df, dataset2[[ 'Kmean_cluster']]], axis = 1)"
   ]
  },
  {
   "cell_type": "code",
   "execution_count": null,
   "id": "f5ffa41e",
   "metadata": {},
   "outputs": [],
   "source": [
    "pca_nom_data.head()"
   ]
  },
  {
   "cell_type": "code",
   "execution_count": null,
   "id": "6a9b9aa0",
   "metadata": {},
   "outputs": [],
   "source": [
    "fig = plt.figure(figsize = (6,6))\n",
    "\n",
    "ax = fig.add_subplot(1,1,1)\n",
    "ax.set_xlabel(' componente 1', fontsize = 15)\n",
    "ax.set_ylabel(' componente 2', fontsize = 15)\n",
    "ax.set_title('compo')\n",
    "\n",
    "colores = np.array(['r.','b.','y.','g.'])\n",
    "ax.scatter(x = pca_nom_data.componente_1, y = pca_nom_data.componente_2,\n",
    "           s= 50)\n",
    " #c = colores[pca_nom_data.Kmean_cluster]\n",
    "plt.show()"
   ]
  },
  {
   "cell_type": "code",
   "execution_count": null,
   "id": "2c9f8add",
   "metadata": {},
   "outputs": [],
   "source": [
    "#CENTROIDES \n",
    "clus.cluster_centers_\n"
   ]
  },
  {
   "cell_type": "markdown",
   "id": "b5e05c70",
   "metadata": {},
   "source": [
    "## Cluster Jerárquico "
   ]
  },
  {
   "cell_type": "code",
   "execution_count": 12,
   "id": "efee502e",
   "metadata": {},
   "outputs": [],
   "source": [
    "import scipy.cluster.hierarchy as sch\n",
    "from scipy.cluster.hierarchy import dendrogram, linkage, fcluster"
   ]
  },
  {
   "cell_type": "code",
   "execution_count": 9,
   "id": "ffd2b5f4",
   "metadata": {},
   "outputs": [],
   "source": [
    "## reutilizamos el dataframe df, el cual no tiene la primera columna \n",
    "df\n",
    "\n",
    "# NORMALIZAR VALORES\n",
    "df_nor = (df-df.min())/(df.max()- df.min())"
   ]
  },
  {
   "cell_type": "code",
   "execution_count": 10,
   "id": "a505f231",
   "metadata": {},
   "outputs": [
    {
     "data": {
      "text/html": [
       "<div>\n",
       "<style scoped>\n",
       "    .dataframe tbody tr th:only-of-type {\n",
       "        vertical-align: middle;\n",
       "    }\n",
       "\n",
       "    .dataframe tbody tr th {\n",
       "        vertical-align: top;\n",
       "    }\n",
       "\n",
       "    .dataframe thead th {\n",
       "        text-align: right;\n",
       "    }\n",
       "</style>\n",
       "<table border=\"1\" class=\"dataframe\">\n",
       "  <thead>\n",
       "    <tr style=\"text-align: right;\">\n",
       "      <th></th>\n",
       "      <th>Amplitude</th>\n",
       "      <th>AndersonDarling</th>\n",
       "      <th>Autocor_length</th>\n",
       "      <th>Beyond1Std</th>\n",
       "      <th>Gskew</th>\n",
       "      <th>LinearTrend</th>\n",
       "      <th>MaxSlope</th>\n",
       "      <th>Mean</th>\n",
       "      <th>Meanvariance</th>\n",
       "      <th>MedianAbsDev</th>\n",
       "      <th>MedianBRP</th>\n",
       "      <th>PercentAmplitude</th>\n",
       "      <th>PeriodLS</th>\n",
       "    </tr>\n",
       "  </thead>\n",
       "  <tbody>\n",
       "    <tr>\n",
       "      <th>0</th>\n",
       "      <td>0.011810</td>\n",
       "      <td>0.000000</td>\n",
       "      <td>0.028986</td>\n",
       "      <td>0.427995</td>\n",
       "      <td>0.549661</td>\n",
       "      <td>0.327761</td>\n",
       "      <td>0.000370</td>\n",
       "      <td>0.276117</td>\n",
       "      <td>0.009723</td>\n",
       "      <td>0.006843</td>\n",
       "      <td>0.544094</td>\n",
       "      <td>0.023519</td>\n",
       "      <td>0.001389</td>\n",
       "    </tr>\n",
       "    <tr>\n",
       "      <th>1</th>\n",
       "      <td>0.122232</td>\n",
       "      <td>0.000000</td>\n",
       "      <td>0.246377</td>\n",
       "      <td>0.592447</td>\n",
       "      <td>0.582665</td>\n",
       "      <td>0.327920</td>\n",
       "      <td>0.000012</td>\n",
       "      <td>0.215173</td>\n",
       "      <td>0.110845</td>\n",
       "      <td>0.093353</td>\n",
       "      <td>0.200045</td>\n",
       "      <td>0.152480</td>\n",
       "      <td>0.000077</td>\n",
       "    </tr>\n",
       "    <tr>\n",
       "      <th>2</th>\n",
       "      <td>0.155595</td>\n",
       "      <td>0.000000</td>\n",
       "      <td>0.000000</td>\n",
       "      <td>0.327894</td>\n",
       "      <td>0.615361</td>\n",
       "      <td>0.327701</td>\n",
       "      <td>0.000934</td>\n",
       "      <td>0.816455</td>\n",
       "      <td>0.085561</td>\n",
       "      <td>0.067449</td>\n",
       "      <td>0.540185</td>\n",
       "      <td>0.155785</td>\n",
       "      <td>0.000196</td>\n",
       "    </tr>\n",
       "    <tr>\n",
       "      <th>3</th>\n",
       "      <td>0.198110</td>\n",
       "      <td>0.000000</td>\n",
       "      <td>0.173913</td>\n",
       "      <td>0.699698</td>\n",
       "      <td>0.538556</td>\n",
       "      <td>0.326105</td>\n",
       "      <td>0.001963</td>\n",
       "      <td>0.270386</td>\n",
       "      <td>0.171995</td>\n",
       "      <td>0.146139</td>\n",
       "      <td>0.211774</td>\n",
       "      <td>0.168550</td>\n",
       "      <td>0.009102</td>\n",
       "    </tr>\n",
       "    <tr>\n",
       "      <th>4</th>\n",
       "      <td>0.002214</td>\n",
       "      <td>0.099096</td>\n",
       "      <td>0.000000</td>\n",
       "      <td>0.522011</td>\n",
       "      <td>0.543183</td>\n",
       "      <td>0.327860</td>\n",
       "      <td>0.000296</td>\n",
       "      <td>0.206016</td>\n",
       "      <td>0.001995</td>\n",
       "      <td>0.001955</td>\n",
       "      <td>0.498759</td>\n",
       "      <td>0.003382</td>\n",
       "      <td>0.000594</td>\n",
       "    </tr>\n",
       "    <tr>\n",
       "      <th>...</th>\n",
       "      <td>...</td>\n",
       "      <td>...</td>\n",
       "      <td>...</td>\n",
       "      <td>...</td>\n",
       "      <td>...</td>\n",
       "      <td>...</td>\n",
       "      <td>...</td>\n",
       "      <td>...</td>\n",
       "      <td>...</td>\n",
       "      <td>...</td>\n",
       "      <td>...</td>\n",
       "      <td>...</td>\n",
       "      <td>...</td>\n",
       "    </tr>\n",
       "    <tr>\n",
       "      <th>4995</th>\n",
       "      <td>0.019486</td>\n",
       "      <td>0.115030</td>\n",
       "      <td>0.014493</td>\n",
       "      <td>0.578146</td>\n",
       "      <td>0.545034</td>\n",
       "      <td>0.327621</td>\n",
       "      <td>0.005021</td>\n",
       "      <td>0.177003</td>\n",
       "      <td>0.017886</td>\n",
       "      <td>0.013196</td>\n",
       "      <td>0.411166</td>\n",
       "      <td>0.022453</td>\n",
       "      <td>0.001378</td>\n",
       "    </tr>\n",
       "    <tr>\n",
       "      <th>4996</th>\n",
       "      <td>0.121346</td>\n",
       "      <td>0.000000</td>\n",
       "      <td>0.710145</td>\n",
       "      <td>0.842697</td>\n",
       "      <td>0.523597</td>\n",
       "      <td>0.323431</td>\n",
       "      <td>0.034564</td>\n",
       "      <td>0.259442</td>\n",
       "      <td>0.119207</td>\n",
       "      <td>0.120235</td>\n",
       "      <td>0.274328</td>\n",
       "      <td>0.100964</td>\n",
       "      <td>0.106848</td>\n",
       "    </tr>\n",
       "    <tr>\n",
       "      <th>4997</th>\n",
       "      <td>0.008710</td>\n",
       "      <td>0.030876</td>\n",
       "      <td>0.043478</td>\n",
       "      <td>0.563845</td>\n",
       "      <td>0.546885</td>\n",
       "      <td>0.327282</td>\n",
       "      <td>0.000023</td>\n",
       "      <td>0.298014</td>\n",
       "      <td>0.007398</td>\n",
       "      <td>0.006843</td>\n",
       "      <td>0.264833</td>\n",
       "      <td>0.007314</td>\n",
       "      <td>0.086363</td>\n",
       "    </tr>\n",
       "    <tr>\n",
       "      <th>4998</th>\n",
       "      <td>0.011515</td>\n",
       "      <td>0.455902</td>\n",
       "      <td>0.014493</td>\n",
       "      <td>0.520945</td>\n",
       "      <td>0.544725</td>\n",
       "      <td>0.328160</td>\n",
       "      <td>0.000401</td>\n",
       "      <td>0.211514</td>\n",
       "      <td>0.009419</td>\n",
       "      <td>0.006843</td>\n",
       "      <td>0.422895</td>\n",
       "      <td>0.013644</td>\n",
       "      <td>0.222698</td>\n",
       "    </tr>\n",
       "    <tr>\n",
       "      <th>4999</th>\n",
       "      <td>0.017124</td>\n",
       "      <td>0.032569</td>\n",
       "      <td>0.072464</td>\n",
       "      <td>0.570997</td>\n",
       "      <td>0.542566</td>\n",
       "      <td>0.328259</td>\n",
       "      <td>0.002164</td>\n",
       "      <td>0.214424</td>\n",
       "      <td>0.015178</td>\n",
       "      <td>0.012219</td>\n",
       "      <td>0.266509</td>\n",
       "      <td>0.014248</td>\n",
       "      <td>0.024637</td>\n",
       "    </tr>\n",
       "  </tbody>\n",
       "</table>\n",
       "<p>5000 rows × 13 columns</p>\n",
       "</div>"
      ],
      "text/plain": [
       "      Amplitude  AndersonDarling  Autocor_length  Beyond1Std     Gskew  \\\n",
       "0      0.011810         0.000000        0.028986    0.427995  0.549661   \n",
       "1      0.122232         0.000000        0.246377    0.592447  0.582665   \n",
       "2      0.155595         0.000000        0.000000    0.327894  0.615361   \n",
       "3      0.198110         0.000000        0.173913    0.699698  0.538556   \n",
       "4      0.002214         0.099096        0.000000    0.522011  0.543183   \n",
       "...         ...              ...             ...         ...       ...   \n",
       "4995   0.019486         0.115030        0.014493    0.578146  0.545034   \n",
       "4996   0.121346         0.000000        0.710145    0.842697  0.523597   \n",
       "4997   0.008710         0.030876        0.043478    0.563845  0.546885   \n",
       "4998   0.011515         0.455902        0.014493    0.520945  0.544725   \n",
       "4999   0.017124         0.032569        0.072464    0.570997  0.542566   \n",
       "\n",
       "      LinearTrend  MaxSlope      Mean  Meanvariance  MedianAbsDev  MedianBRP  \\\n",
       "0        0.327761  0.000370  0.276117      0.009723      0.006843   0.544094   \n",
       "1        0.327920  0.000012  0.215173      0.110845      0.093353   0.200045   \n",
       "2        0.327701  0.000934  0.816455      0.085561      0.067449   0.540185   \n",
       "3        0.326105  0.001963  0.270386      0.171995      0.146139   0.211774   \n",
       "4        0.327860  0.000296  0.206016      0.001995      0.001955   0.498759   \n",
       "...           ...       ...       ...           ...           ...        ...   \n",
       "4995     0.327621  0.005021  0.177003      0.017886      0.013196   0.411166   \n",
       "4996     0.323431  0.034564  0.259442      0.119207      0.120235   0.274328   \n",
       "4997     0.327282  0.000023  0.298014      0.007398      0.006843   0.264833   \n",
       "4998     0.328160  0.000401  0.211514      0.009419      0.006843   0.422895   \n",
       "4999     0.328259  0.002164  0.214424      0.015178      0.012219   0.266509   \n",
       "\n",
       "      PercentAmplitude  PeriodLS  \n",
       "0             0.023519  0.001389  \n",
       "1             0.152480  0.000077  \n",
       "2             0.155785  0.000196  \n",
       "3             0.168550  0.009102  \n",
       "4             0.003382  0.000594  \n",
       "...                ...       ...  \n",
       "4995          0.022453  0.001378  \n",
       "4996          0.100964  0.106848  \n",
       "4997          0.007314  0.086363  \n",
       "4998          0.013644  0.222698  \n",
       "4999          0.014248  0.024637  \n",
       "\n",
       "[5000 rows x 13 columns]"
      ]
     },
     "execution_count": 10,
     "metadata": {},
     "output_type": "execute_result"
    }
   ],
   "source": [
    "df_nor"
   ]
  },
  {
   "cell_type": "markdown",
   "id": "f2b5020f",
   "metadata": {},
   "source": [
    "**CREANDO EL DONDOGRAMA**"
   ]
  },
  {
   "cell_type": "code",
   "execution_count": null,
   "id": "7b3cbd67",
   "metadata": {},
   "outputs": [],
   "source": [
    "#Metodo ward para agrupar clusters\n",
    "clustering_Jerarquico = linkage(df_nor, 'ward')"
   ]
  },
  {
   "cell_type": "code",
   "execution_count": 17,
   "id": "e877dd7e",
   "metadata": {},
   "outputs": [
    {
     "data": {
      "image/png": "[encoded data removed]",
      "text/plain": [
       "<Figure size 432x288 with 1 Axes>"
      ]
     },
     "metadata": {
      "needs_background": "light"
     },
     "output_type": "display_data"
    }
   ],
   "source": [
    "#grafico del dendograma\n",
    "dendrogram = sch.dendrogram(clustering_Jerarquico)"
   ]
  },
  {
   "cell_type": "markdown",
   "id": "42c1dfcb",
   "metadata": {},
   "source": [
    "##  GMM\n",
    "\n",
    "EN esta sección se implementan metodos de Gaussian mixture model"
   ]
  },
  {
   "cell_type": "code",
   "execution_count": 41,
   "id": "a73adebb",
   "metadata": {},
   "outputs": [],
   "source": [
    "from sklearn.mixture import GaussianMixture"
   ]
  },
  {
   "cell_type": "markdown",
   "id": "865e34a8",
   "metadata": {},
   "source": [
    "### Distribución predicciones GMM"
   ]
  },
  {
   "cell_type": "code",
   "execution_count": 42,
   "id": "7a21b858",
   "metadata": {},
   "outputs": [
    {
     "data": {
      "image/png": "[encoded data removed]",
      "text/plain": [
       "<Figure size 396x252 with 1 Axes>"
      ]
     },
     "metadata": {
      "needs_background": "light"
     },
     "output_type": "display_data"
    }
   ],
   "source": [
    "fig, ax = plt.subplots(nrows=1, ncols=1, figsize=(5.5, 3.5))\n",
    "sns.boxplot(\n",
    "    x     = 'Amplitude',\n",
    "    y     = 'AndersonDarling',\n",
    "    data  = df_nor,\n",
    "    #color = \"white\",\n",
    "    palette = 'tab10',\n",
    "    ax    = ax\n",
    ")\n",
    "\n",
    "ax.set_title('Distribución predicciones GMM')\n",
    "ax.set_ylabel('Logaritmo densidad de probabilidad')\n",
    "ax.set_xlabel('clasificación (0 = normal, 1 = anomalía)');"
   ]
  },
  {
   "cell_type": "markdown",
   "id": "724ea7a8",
   "metadata": {},
   "source": [
    "### Cálculo de medias y covarianza"
   ]
  },
  {
   "cell_type": "code",
   "execution_count": 43,
   "id": "0f58b082",
   "metadata": {},
   "outputs": [
    {
     "data": {
      "image/png": "[encoded data removed]",
      "text/plain": [
       "<Figure size 432x276.48 with 1 Axes>"
      ]
     },
     "metadata": {
      "needs_background": "light"
     },
     "output_type": "display_data"
    }
   ],
   "source": [
    "fig, ax = plt.subplots(figsize=(6, 3.84))\n",
    "\n",
    "n_components = range(1, 9)\n",
    "covariance_types = ['spherical', 'tied', 'diag', 'full']\n",
    "\n",
    "for covariance_type in covariance_types:\n",
    "    valores_bic = []\n",
    "    \n",
    "    for i in n_components:\n",
    "        modelo = GaussianMixture(n_components=i, covariance_type=covariance_type)\n",
    "        modelo = modelo.fit(df_nor)\n",
    "        valores_bic.append(modelo.bic(df_nor))\n",
    "        \n",
    "    ax.plot(n_components, valores_bic, label=covariance_type)\n",
    "        \n",
    "ax.set_title(\"Valores BIC\")\n",
    "ax.set_xlabel(\"Número componentes\")\n",
    "ax.legend();"
   ]
  },
  {
   "cell_type": "code",
   "execution_count": 46,
   "id": "29f624d3",
   "metadata": {},
   "outputs": [
    {
     "data": {
      "text/html": [
       "<style>#sk-container-id-2 {color: black;background-color: white;}#sk-container-id-2 pre{padding: 0;}#sk-container-id-2 div.sk-toggleable {background-color: white;}#sk-container-id-2 label.sk-toggleable__label {cursor: pointer;display: block;width: 100%;margin-bottom: 0;padding: 0.3em;box-sizing: border-box;text-align: center;}#sk-container-id-2 label.sk-toggleable__label-arrow:before {content: \"▸\";float: left;margin-right: 0.25em;color: #696969;}#sk-container-id-2 label.sk-toggleable__label-arrow:hover:before {color: black;}#sk-container-id-2 div.sk-estimator:hover label.sk-toggleable__label-arrow:before {color: black;}#sk-container-id-2 div.sk-toggleable__content {max-height: 0;max-width: 0;overflow: hidden;text-align: left;background-color: #f0f8ff;}#sk-container-id-2 div.sk-toggleable__content pre {margin: 0.2em;color: black;border-radius: 0.25em;background-color: #f0f8ff;}#sk-container-id-2 input.sk-toggleable__control:checked~div.sk-toggleable__content {max-height: 200px;max-width: 100%;overflow: auto;}#sk-container-id-2 input.sk-toggleable__control:checked~label.sk-toggleable__label-arrow:before {content: \"▾\";}#sk-container-id-2 div.sk-estimator input.sk-toggleable__control:checked~label.sk-toggleable__label {background-color: #d4ebff;}#sk-container-id-2 div.sk-label input.sk-toggleable__control:checked~label.sk-toggleable__label {background-color: #d4ebff;}#sk-container-id-2 input.sk-hidden--visually {border: 0;clip: rect(1px 1px 1px 1px);clip: rect(1px, 1px, 1px, 1px);height: 1px;margin: -1px;overflow: hidden;padding: 0;position: absolute;width: 1px;}#sk-container-id-2 div.sk-estimator {font-family: monospace;background-color: #f0f8ff;border: 1px dotted black;border-radius: 0.25em;box-sizing: border-box;margin-bottom: 0.5em;}#sk-container-id-2 div.sk-estimator:hover {background-color: #d4ebff;}#sk-container-id-2 div.sk-parallel-item::after {content: \"\";width: 100%;border-bottom: 1px solid gray;flex-grow: 1;}#sk-container-id-2 div.sk-label:hover label.sk-toggleable__label {background-color: #d4ebff;}#sk-container-id-2 div.sk-serial::before {content: \"\";position: absolute;border-left: 1px solid gray;box-sizing: border-box;top: 0;bottom: 0;left: 50%;z-index: 0;}#sk-container-id-2 div.sk-serial {display: flex;flex-direction: column;align-items: center;background-color: white;padding-right: 0.2em;padding-left: 0.2em;position: relative;}#sk-container-id-2 div.sk-item {position: relative;z-index: 1;}#sk-container-id-2 div.sk-parallel {display: flex;align-items: stretch;justify-content: center;background-color: white;position: relative;}#sk-container-id-2 div.sk-item::before, #sk-container-id-2 div.sk-parallel-item::before {content: \"\";position: absolute;border-left: 1px solid gray;box-sizing: border-box;top: 0;bottom: 0;left: 50%;z-index: -1;}#sk-container-id-2 div.sk-parallel-item {display: flex;flex-direction: column;z-index: 1;position: relative;background-color: white;}#sk-container-id-2 div.sk-parallel-item:first-child::after {align-self: flex-end;width: 50%;}#sk-container-id-2 div.sk-parallel-item:last-child::after {align-self: flex-start;width: 50%;}#sk-container-id-2 div.sk-parallel-item:only-child::after {width: 0;}#sk-container-id-2 div.sk-dashed-wrapped {border: 1px dashed gray;margin: 0 0.4em 0.5em 0.4em;box-sizing: border-box;padding-bottom: 0.4em;background-color: white;}#sk-container-id-2 div.sk-label label {font-family: monospace;font-weight: bold;display: inline-block;line-height: 1.2em;}#sk-container-id-2 div.sk-label-container {text-align: center;}#sk-container-id-2 div.sk-container {/* jupyter's `normalize.less` sets `[hidden] { display: none; }` but bootstrap.min.css set `[hidden] { display: none !important; }` so we also need the `!important` here to be able to override the default hidden behavior on the sphinx rendered scikit-learn.org. See: https://github.com/scikit-learn/scikit-learn/issues/21755 */display: inline-block !important;position: relative;}#sk-container-id-2 div.sk-text-repr-fallback {display: none;}</style><div id=\"sk-container-id-2\" class=\"sk-top-container\"><div class=\"sk-text-repr-fallback\"><pre>GaussianMixture(n_components=6, random_state=123)</pre><b>In a Jupyter environment, please rerun this cell to show the HTML representation or trust the notebook. <br />On GitHub, the HTML representation is unable to render, please try loading this page with nbviewer.org.</b></div><div class=\"sk-container\" hidden><div class=\"sk-item\"><div class=\"sk-estimator sk-toggleable\"><input class=\"sk-toggleable__control sk-hidden--visually\" id=\"sk-estimator-id-2\" type=\"checkbox\" checked><label for=\"sk-estimator-id-2\" class=\"sk-toggleable__label sk-toggleable__label-arrow\">GaussianMixture</label><div class=\"sk-toggleable__content\"><pre>GaussianMixture(n_components=6, random_state=123)</pre></div></div></div></div></div>"
      ],
      "text/plain": [
       "GaussianMixture(n_components=6, random_state=123)"
      ]
     },
     "execution_count": 46,
     "metadata": {},
     "output_type": "execute_result"
    }
   ],
   "source": [
    "modelo_gmm = GaussianMixture(\n",
    "                n_components    = 6,\n",
    "                covariance_type = 'full',\n",
    "                random_state    = 123, \n",
    "             )\n",
    "\n",
    "modelo_gmm.fit(X=df_nor)"
   ]
  },
  {
   "cell_type": "code",
   "execution_count": 47,
   "id": "b9918d3b",
   "metadata": {},
   "outputs": [
    {
     "data": {
      "text/html": [
       "<style>#sk-container-id-3 {color: black;background-color: white;}#sk-container-id-3 pre{padding: 0;}#sk-container-id-3 div.sk-toggleable {background-color: white;}#sk-container-id-3 label.sk-toggleable__label {cursor: pointer;display: block;width: 100%;margin-bottom: 0;padding: 0.3em;box-sizing: border-box;text-align: center;}#sk-container-id-3 label.sk-toggleable__label-arrow:before {content: \"▸\";float: left;margin-right: 0.25em;color: #696969;}#sk-container-id-3 label.sk-toggleable__label-arrow:hover:before {color: black;}#sk-container-id-3 div.sk-estimator:hover label.sk-toggleable__label-arrow:before {color: black;}#sk-container-id-3 div.sk-toggleable__content {max-height: 0;max-width: 0;overflow: hidden;text-align: left;background-color: #f0f8ff;}#sk-container-id-3 div.sk-toggleable__content pre {margin: 0.2em;color: black;border-radius: 0.25em;background-color: #f0f8ff;}#sk-container-id-3 input.sk-toggleable__control:checked~div.sk-toggleable__content {max-height: 200px;max-width: 100%;overflow: auto;}#sk-container-id-3 input.sk-toggleable__control:checked~label.sk-toggleable__label-arrow:before {content: \"▾\";}#sk-container-id-3 div.sk-estimator input.sk-toggleable__control:checked~label.sk-toggleable__label {background-color: #d4ebff;}#sk-container-id-3 div.sk-label input.sk-toggleable__control:checked~label.sk-toggleable__label {background-color: #d4ebff;}#sk-container-id-3 input.sk-hidden--visually {border: 0;clip: rect(1px 1px 1px 1px);clip: rect(1px, 1px, 1px, 1px);height: 1px;margin: -1px;overflow: hidden;padding: 0;position: absolute;width: 1px;}#sk-container-id-3 div.sk-estimator {font-family: monospace;background-color: #f0f8ff;border: 1px dotted black;border-radius: 0.25em;box-sizing: border-box;margin-bottom: 0.5em;}#sk-container-id-3 div.sk-estimator:hover {background-color: #d4ebff;}#sk-container-id-3 div.sk-parallel-item::after {content: \"\";width: 100%;border-bottom: 1px solid gray;flex-grow: 1;}#sk-container-id-3 div.sk-label:hover label.sk-toggleable__label {background-color: #d4ebff;}#sk-container-id-3 div.sk-serial::before {content: \"\";position: absolute;border-left: 1px solid gray;box-sizing: border-box;top: 0;bottom: 0;left: 50%;z-index: 0;}#sk-container-id-3 div.sk-serial {display: flex;flex-direction: column;align-items: center;background-color: white;padding-right: 0.2em;padding-left: 0.2em;position: relative;}#sk-container-id-3 div.sk-item {position: relative;z-index: 1;}#sk-container-id-3 div.sk-parallel {display: flex;align-items: stretch;justify-content: center;background-color: white;position: relative;}#sk-container-id-3 div.sk-item::before, #sk-container-id-3 div.sk-parallel-item::before {content: \"\";position: absolute;border-left: 1px solid gray;box-sizing: border-box;top: 0;bottom: 0;left: 50%;z-index: -1;}#sk-container-id-3 div.sk-parallel-item {display: flex;flex-direction: column;z-index: 1;position: relative;background-color: white;}#sk-container-id-3 div.sk-parallel-item:first-child::after {align-self: flex-end;width: 50%;}#sk-container-id-3 div.sk-parallel-item:last-child::after {align-self: flex-start;width: 50%;}#sk-container-id-3 div.sk-parallel-item:only-child::after {width: 0;}#sk-container-id-3 div.sk-dashed-wrapped {border: 1px dashed gray;margin: 0 0.4em 0.5em 0.4em;box-sizing: border-box;padding-bottom: 0.4em;background-color: white;}#sk-container-id-3 div.sk-label label {font-family: monospace;font-weight: bold;display: inline-block;line-height: 1.2em;}#sk-container-id-3 div.sk-label-container {text-align: center;}#sk-container-id-3 div.sk-container {/* jupyter's `normalize.less` sets `[hidden] { display: none; }` but bootstrap.min.css set `[hidden] { display: none !important; }` so we also need the `!important` here to be able to override the default hidden behavior on the sphinx rendered scikit-learn.org. See: https://github.com/scikit-learn/scikit-learn/issues/21755 */display: inline-block !important;position: relative;}#sk-container-id-3 div.sk-text-repr-fallback {display: none;}</style><div id=\"sk-container-id-3\" class=\"sk-top-container\"><div class=\"sk-text-repr-fallback\"><pre>GaussianMixture(n_components=6, random_state=123)</pre><b>In a Jupyter environment, please rerun this cell to show the HTML representation or trust the notebook. <br />On GitHub, the HTML representation is unable to render, please try loading this page with nbviewer.org.</b></div><div class=\"sk-container\" hidden><div class=\"sk-item\"><div class=\"sk-estimator sk-toggleable\"><input class=\"sk-toggleable__control sk-hidden--visually\" id=\"sk-estimator-id-3\" type=\"checkbox\" checked><label for=\"sk-estimator-id-3\" class=\"sk-toggleable__label sk-toggleable__label-arrow\">GaussianMixture</label><div class=\"sk-toggleable__content\"><pre>GaussianMixture(n_components=6, random_state=123)</pre></div></div></div></div></div>"
      ],
      "text/plain": [
       "GaussianMixture(n_components=6, random_state=123)"
      ]
     },
     "execution_count": 47,
     "metadata": {},
     "output_type": "execute_result"
    }
   ],
   "source": [
    "GaussianMixture(n_components=6, random_state=123)"
   ]
  },
  {
   "cell_type": "markdown",
   "id": "f69dd96b",
   "metadata": {},
   "source": [
    "### Predicción"
   ]
  },
  {
   "cell_type": "code",
   "execution_count": 49,
   "id": "2595b67a",
   "metadata": {},
   "outputs": [
    {
     "data": {
      "text/plain": [
       "array([31.66884481, 18.11497989, 24.36533614, ..., 47.53232976,\n",
       "       48.23838261, 47.23721242])"
      ]
     },
     "execution_count": 49,
     "metadata": {},
     "output_type": "execute_result"
    }
   ],
   "source": [
    "# Predicción log probabilidad\n",
    "\n",
    "log_pred = modelo_gmm.score_samples(X=df_nor)\n",
    "log_pred"
   ]
  },
  {
   "cell_type": "code",
   "execution_count": 50,
   "id": "ab55f64a",
   "metadata": {},
   "outputs": [
    {
     "name": "stderr",
     "output_type": "stream",
     "text": [
      "C:\\Users\\Dell\\AppData\\Local\\Programs\\Python\\Python310\\lib\\site-packages\\seaborn\\distributions.py:2619: FutureWarning: `distplot` is a deprecated function and will be removed in a future version. Please adapt your code to use either `displot` (a figure-level function with similar flexibility) or `kdeplot` (an axes-level function for kernel density plots).\n",
      "  warnings.warn(msg, FutureWarning)\n",
      "C:\\Users\\Dell\\AppData\\Local\\Programs\\Python\\Python310\\lib\\site-packages\\seaborn\\distributions.py:2103: FutureWarning: The `axis` variable is no longer used and will be removed. Instead, assign variables directly to `x` or `y`.\n",
      "  warnings.warn(msg, FutureWarning)\n"
     ]
    },
    {
     "data": {
      "image/png": "[encoded data removed]",
      "text/plain": [
       "<Figure size 504x252 with 1 Axes>"
      ]
     },
     "metadata": {
      "needs_background": "light"
     },
     "output_type": "display_data"
    }
   ],
   "source": [
    "# Distribución de las probabilidades\n",
    "\n",
    "fig, ax = plt.subplots(nrows=1, ncols=1, figsize=(7, 3.5))\n",
    "sns.distplot(\n",
    "    log_pred,\n",
    "    hist    = False,\n",
    "    rug     = True,\n",
    "    color   = 'blue',\n",
    "    kde_kws = {'shade': True, 'linewidth': 1},\n",
    "    ax      = ax\n",
    ")\n",
    "\n",
    "ax.set_title('Distribución predicciones')\n",
    "ax.set_xlabel('Logaritmo densidad de probabilidad');"
   ]
  },
  {
   "cell_type": "markdown",
   "id": "8dbbdee7",
   "metadata": {},
   "source": [
    "## MODELO GMM V/S K-MEANS"
   ]
  },
  {
   "cell_type": "code",
   "execution_count": 86,
   "id": "fbf205b1",
   "metadata": {},
   "outputs": [
    {
     "data": {
      "image/png": "[encoded data removed]",
      "text/plain": [
       "<Figure size 576x360 with 1 Axes>"
      ]
     },
     "metadata": {
      "needs_background": "light"
     },
     "output_type": "display_data"
    },
    {
     "data": {
      "text/plain": [
       "<function matplotlib.pyplot.show(close=None, block=None)>"
      ]
     },
     "execution_count": 86,
     "metadata": {},
     "output_type": "execute_result"
    },
    {
     "data": {
      "image/png": "[encoded data removed]",
      "text/plain": [
       "<Figure size 576x360 with 1 Axes>"
      ]
     },
     "metadata": {
      "needs_background": "light"
     },
     "output_type": "display_data"
    }
   ],
   "source": [
    "#gaussian mixture\n",
    "fig=plt.figure(figsize=(8,5))\n",
    "g=GaussianMixture(n_components=2)\n",
    "g.fit(df_nor)\n",
    "pred_gmm=g.predict(df_nor)\n",
    "plt.scatter(df_nor.iloc[:,0],df_nor.iloc[:,3],c=pred_gmm,cmap='prism')\n",
    "plt.xlabel('x',fontsize=40)\n",
    "plt.ylabel('y',fontsize=40)\n",
    "plt.show()\n",
    "\n",
    "# K-MEANS\n",
    "fig=plt.figure(figsize=(8,5))\n",
    "kmeans= KMeans(n_clusters=2)\n",
    "kmeans.fit(df_nor)\n",
    "pred_kmeans=kmeans.labels_\n",
    "plt.scatter(df_nor.iloc[:,0],df_nor.iloc[:,3],c=kmeans.labels_,cmap='prism')\n",
    "plt.scatter(df_nor.iloc[:,0],df_nor.iloc[:,3],c=kmeans.labels_,cmap='prism')\n",
    "plt.xlabel('x',fontsize=40)\n",
    "plt.ylabel('y',fontsize=40)\n",
    "plt.title('k_means',fontsize=20)\n",
    "plt.show"
   ]
  },
  {
   "cell_type": "markdown",
   "id": "6b8e3096",
   "metadata": {},
   "source": [
    "El Gaussian Mixture Model es un modelo probabilístico en el cual solo se consideran las distribuciones normales,lo que muestra el modelo GMM es un generalizacion del modelo k-mean "
   ]
  },
  {
   "cell_type": "code",
   "execution_count": null,
   "id": "c411c80f",
   "metadata": {},
   "outputs": [],
   "source": []
  }
 ],
 "metadata": {
  "kernelspec": {
   "display_name": "Python 3 (ipykernel)",
   "language": "python",
   "name": "python3"
  },
  "language_info": {
   "codemirror_mode": {
    "name": "ipython",
    "version": 3
   },
   "file_extension": ".py",
   "mimetype": "text/x-python",
   "name": "python",
   "nbconvert_exporter": "python",
   "pygments_lexer": "ipython3",
   "version": "3.10.4"
  }
 },
 "nbformat": 4,
 "nbformat_minor": 5
}
